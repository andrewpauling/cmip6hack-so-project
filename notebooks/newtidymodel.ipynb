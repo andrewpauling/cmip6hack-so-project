{
 "cells": [
  {
   "cell_type": "code",
   "execution_count": 43,
   "metadata": {},
   "outputs": [],
   "source": [
    "%matplotlib inline\n",
    "\n",
    "import xarray as xr\n",
    "import intake\n",
    "import util \n",
    "import pprint \n",
    "import gsw\n",
    "import dask\n",
    "import numpy as np\n",
    "nm = 12"
   ]
  },
  {
   "cell_type": "code",
   "execution_count": 2,
   "metadata": {},
   "outputs": [],
   "source": [
    "if util.is_ncar_host():\n",
    "    col = intake.open_esm_datastore(\"../catalogs/glade-cmip6.json\")\n",
    "else:\n",
    "    col = intake.open_esm_datastore(\"../catalogs/pangeo-cmip6.json\")"
   ]
  },
  {
   "cell_type": "code",
   "execution_count": 3,
   "metadata": {},
   "outputs": [],
   "source": [
    "cat = col.search(experiment_id=['historical'], institution_id='NCAR', table_id=['Omon'], variable_id=['thetao','so'],member_id='r1i1p1f1',\n",
    "                grid_label='gn')"
   ]
  },
  {
   "cell_type": "code",
   "execution_count": 4,
   "metadata": {},
   "outputs": [
    {
     "name": "stdout",
     "output_type": "stream",
     "text": [
      "--> The keys in the returned dictionary of datasets are constructed as follows:\n",
      "\t'activity_id.institution_id.source_id.experiment_id.table_id.grid_label'\n",
      "\n",
      "--> There will be 1 group(s)\n"
     ]
    }
   ],
   "source": [
    "dset_dict = cat.to_dataset_dict(zarr_kwargs={'consolidated': True, 'decode_times': False}, \n",
    "                                cdf_kwargs={'chunks': {}, 'decode_times': False})"
   ]
  },
  {
   "cell_type": "code",
   "execution_count": 51,
   "metadata": {},
   "outputs": [
    {
     "name": "stdout",
     "output_type": "stream",
     "text": [
      "CMIP.NCAR.CESM2.historical.Omon.gn\n",
      "<xarray.Dataset>\n",
      "Dimensions:    (d2: 2, lev: 60, member_id: 1, nlat: 384, nlon: 320, vertices: 4)\n",
      "Coordinates:\n",
      "  * nlat       (nlat) int32 1 2 3 4 5 6 7 8 ... 377 378 379 380 381 382 383 384\n",
      "  * lev        (lev) float64 5.0 15.0 25.0 ... 4.875e+03 5.125e+03 5.375e+03\n",
      "  * nlon       (nlon) int32 1 2 3 4 5 6 7 8 ... 313 314 315 316 317 318 319 320\n",
      "  * member_id  (member_id) <U8 'r1i1p1f1'\n",
      "Dimensions without coordinates: d2, vertices\n",
      "Data variables:\n",
      "    lat        (nlat, nlon) float64 dask.array<chunksize=(384, 320), meta=np.ndarray>\n",
      "    lon_bnds   (nlat, nlon, vertices) float32 dask.array<chunksize=(384, 320, 4), meta=np.ndarray>\n",
      "    lev_bnds   (lev, d2) float32 dask.array<chunksize=(60, 2), meta=np.ndarray>\n",
      "    lon        (nlat, nlon) float64 dask.array<chunksize=(384, 320), meta=np.ndarray>\n",
      "    time_bnds  (d2) float64 dask.array<chunksize=(2,), meta=np.ndarray>\n",
      "    lat_bnds   (nlat, nlon, vertices) float32 dask.array<chunksize=(384, 320, 4), meta=np.ndarray>\n",
      "    so         (member_id, lev, nlat, nlon) float32 dask.array<chunksize=(1, 60, 384, 320), meta=np.ndarray>\n",
      "    thetao     (member_id, lev, nlat, nlon) float32 dask.array<chunksize=(1, 60, 384, 320), meta=np.ndarray>\n"
     ]
    }
   ],
   "source": [
    "for i in dset_dict:\n",
    "    print(i)\n",
    "    ds = dset_dict[i].isel(time=slice((1986-1850)*nm,(2006-1850)*nm))\n",
    "    ds = ds.isel(time=np.arange(7,20*nm,nm)).mean(dim='time')\n",
    "    \n",
    "    if 'depth' in ds:\n",
    "        ds = ds.rename({'depth':'lev'})\n",
    "    \n",
    "    if ds.lev.units == 'centimeters':\n",
    "        ds.lev.values = ds.lev.values/100.\n",
    "        ds.lev['units'] = 'm'\n",
    "        \n",
    "    print(ds)"
   ]
  },
  {
   "cell_type": "code",
   "execution_count": null,
   "metadata": {},
   "outputs": [],
   "source": [
    "def calc_mld(ds)\n",
    "\n",
    "\n",
    "    ds = \n",
    "\n",
    "    return ds\n",
    "\n",
    "\n",
    "for i in dset_dict:\n",
    "    dset_dict[i] = calc_mld(dset_dict[i])"
   ]
  },
  {
   "cell_type": "code",
   "execution_count": 46,
   "metadata": {},
   "outputs": [
    {
     "name": "stdout",
     "output_type": "stream",
     "text": [
      "[  7  19  31  43  55  67  79  91 103 115 127 139 151 163 175 187 199 211\n",
      " 223 235]\n"
     ]
    }
   ],
   "source": [
    "print(np.arange(7,20*nm,nm))"
   ]
  },
  {
   "cell_type": "code",
   "execution_count": null,
   "metadata": {},
   "outputs": [],
   "source": [
    "if 'depth' in ds:\n",
    "        ds = ds.rename({'depth':'lev'})\n",
    "    \n",
    "    if ds.lev.units == 'centimeters':\n",
    "        ds.lev = ds.lev/100.\n",
    "        ds.lev['units'] = 'm'\n",
    "        \n",
    "    print(ds)"
   ]
  }
 ],
 "metadata": {
  "kernelspec": {
   "display_name": "Python 3",
   "language": "python",
   "name": "python3"
  },
  "language_info": {
   "codemirror_mode": {
    "name": "ipython",
    "version": 3
   },
   "file_extension": ".py",
   "mimetype": "text/x-python",
   "name": "python",
   "nbconvert_exporter": "python",
   "pygments_lexer": "ipython3",
   "version": "3.7.3"
  }
 },
 "nbformat": 4,
 "nbformat_minor": 4
}
