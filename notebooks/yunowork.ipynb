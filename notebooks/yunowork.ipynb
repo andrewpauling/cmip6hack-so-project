{
 "cells": [
  {
   "cell_type": "code",
   "execution_count": 1,
   "metadata": {},
   "outputs": [
    {
     "name": "stderr",
     "output_type": "stream",
     "text": [
      "/srv/conda/envs/notebook/lib/python3.7/site-packages/intake/source/discovery.py:136: FutureWarning: The drivers ['stac-catalog', 'stac-collection', 'stac-item'] do not specify entry_points and were only discovered via a package scan. This may break in a future release of intake. The packages should be updated.\n",
      "  FutureWarning)\n"
     ]
    }
   ],
   "source": [
    "%matplotlib inline\n",
    "\n",
    "import xarray as xr\n",
    "import intake\n",
    "import util \n",
    "import pprint \n",
    "import dask\n",
    "import gsw\n",
    "import matplotlib.pyplot as plt\n",
    "import numpy as np\n",
    "nm = 12"
   ]
  },
  {
   "cell_type": "code",
   "execution_count": 2,
   "metadata": {},
   "outputs": [],
   "source": [
    "if util.is_ncar_host():\n",
    "    col = intake.open_esm_datastore(\"../catalogs/glade-cmip6.json\")\n",
    "else:\n",
    "    col = intake.open_esm_datastore(\"../catalogs/pangeo-cmip6.json\")"
   ]
  },
  {
   "cell_type": "code",
   "execution_count": 3,
   "metadata": {},
   "outputs": [],
   "source": [
    "cat = col.search(experiment_id=['historical'],table_id=['Omon'],institution_id=['NCAR'],variable_id=['thetao','so'],member_id='r1i1p1f1',\n",
    "                grid_label='gn')"
   ]
  },
  {
   "cell_type": "code",
   "execution_count": 4,
   "metadata": {},
   "outputs": [
    {
     "name": "stdout",
     "output_type": "stream",
     "text": [
      "--> The keys in the returned dictionary of datasets are constructed as follows:\n",
      "\t'activity_id.institution_id.source_id.experiment_id.table_id.grid_label'\n",
      "\n",
      "--> There will be 1 group(s)\n"
     ]
    }
   ],
   "source": [
    "dset_dict = cat.to_dataset_dict(zarr_kwargs={'consolidated': True, 'decode_times': True}, \n",
    "                                cdf_kwargs={'chunks': {}, 'decode_times': True})"
   ]
  },
  {
   "cell_type": "code",
   "execution_count": 5,
   "metadata": {},
   "outputs": [],
   "source": [
    "for i in dset_dict:\n",
    "    dset_dict[i]= dset_dict[i].sel(time=slice('1986','2005')).groupby('time.month').mean().sel(month=8)\n",
    "    \n",
    "    # calculate cthetao and add to ds\n",
    "    cthetao = xr.apply_ufunc(gsw.CT_from_pt, dset_dict[i].so, dset_dict[i].thetao, dask='parallelized',\n",
    "                                         output_dtypes=[float,]).rename('cthetao').to_dataset()     \n",
    "    dset_dict[i] = xr.merge([dset_dict[i],cthetao])\n",
    "    \n",
    "    # calculate sigma0 and add to ds\n",
    "    sigma0 = xr.apply_ufunc(gsw.density.sigma0,dset_dict[i].so, dset_dict[i].cthetao, dask='parallelized', \n",
    "                        output_dtypes=[float, ]).rename('sigma0').to_dataset()                                                                          \n",
    "    dset_dict[i] = xr.merge([dset_dict[i],sigma0])\n",
    "    \n",
    "    # calculate sigma2 and add to ds\n",
    "    sigma2=xr.apply_ufunc(gsw.density.sigma2,dset_dict[i].so, dset_dict[i].cthetao, dask='parallelized', \n",
    "                        output_dtypes=[float, ]).rename('sigma2').to_dataset()\n",
    "    dset_dict[i] = xr.merge([sigma2, dset_dict[i]])\n",
    "    \n",
    "    \n",
    "    # Interpolate potential density and select 10 m\n",
    "    #surf_dens = dset_dict[i].sigma0.interp(lev=np.linspace(0,20,21)).sel(lev = 10)\n",
    "    #surf_dens.plot(); plt.show(); plt.close()\n",
    "    \n",
    "    # Calculate mixed layer depth based on density difference from 10m\n",
    "    #dens_diff = dset_dict[i].sigma0 - surf_dens\n",
    "    #dens_diff = dens_diff.where(dens_diff > 0.03)\n",
    "    #mld = dens_diff.lev.where(dens_diff==dens_diff.min(['lev'])).max(['lev'])\n",
    "    \n",
    "    # plot for sanity check\n",
    "    #mld.mld.plot(); plt.show(); plt.close()\n",
    "    \n",
    "    # get variables at bottom\n",
    "    test = dset_dict[i].sigma0 + dset_dict[i].lev\n",
    "    bottom_depth = dset_dict[i].lev.where(test == test.max(dim='lev')).max(dim='lev')\n",
    "    bottom_sigma2 = dset_dict[i].sigma2.where(test == test.max(['lev'])).max(dim='lev')\n",
    "    bottom_temp = dset_dict[i].thetao.where(test == test.max(['lev'])).max(dim='lev')\n",
    "    dset_dict[i]['bottom_depth'] = bottom_depth\n",
    "    dset_dict[i]['bottom_sigma2'] = bottom_sigma2\n",
    "    dset_dict[i]['bottom_temp'] = bottom_temp"
   ]
  },
  {
   "cell_type": "code",
   "execution_count": 6,
   "metadata": {},
   "outputs": [
    {
     "name": "stderr",
     "output_type": "stream",
     "text": [
      "/srv/conda/envs/notebook/lib/python3.7/site-packages/dask/array/numpy_compat.py:40: RuntimeWarning: invalid value encountered in true_divide\n",
      "  x = np.divide(x1, x2, out)\n"
     ]
    },
    {
     "data": {
      "text/plain": [
       "<matplotlib.collections.QuadMesh at 0x7f7799ba8c18>"
      ]
     },
     "execution_count": 6,
     "metadata": {},
     "output_type": "execute_result"
    },
    {
     "data": {
      "image/png": "[encoded data removed]",
      "text/plain": [
       "<Figure size 432x288 with 2 Axes>"
      ]
     },
     "metadata": {
      "needs_background": "light"
     },
     "output_type": "display_data"
    }
   ],
   "source": [
    "# interpolate density data\n",
    "for i in dset_dict:\n",
    "    dsi = (dset_dict[i].sigma0).interp(lev=np.linspace(0,20,21))\n",
    "    surf_dens = dsi.sel(lev = 20)\n",
    "#     print(surf_dens)\n",
    "surf_dens.plot()    "
   ]
  },
  {
   "cell_type": "code",
   "execution_count": 40,
   "metadata": {},
   "outputs": [],
   "source": [
    "\n",
    "#dset_dict[i].bottom_depth.plot(); plt.show(); plt.close()\n",
    "#dset_dict[i].bottom_temp.plot(); plt.show(); plt.close()\n",
    "#dset_dict[i].bottom_sigma2.plot(); plt.show(); plt.close()\n"
   ]
  },
  {
   "cell_type": "code",
   "execution_count": null,
   "metadata": {},
   "outputs": [],
   "source": []
  },
  {
   "cell_type": "code",
   "execution_count": 41,
   "metadata": {},
   "outputs": [
    {
     "ename": "NameError",
     "evalue": "name 'ds' is not defined",
     "output_type": "error",
     "traceback": [
      "\u001b[0;31m---------------------------------------------------------------------------\u001b[0m",
      "\u001b[0;31mNameError\u001b[0m                                 Traceback (most recent call last)",
      "\u001b[0;32m<ipython-input-41-d289b1dc8e01>\u001b[0m in \u001b[0;36m<module>\u001b[0;34m\u001b[0m\n\u001b[1;32m      1\u001b[0m \u001b[0;31m#Make depth/lev coordinate uniform in name\u001b[0m\u001b[0;34m\u001b[0m\u001b[0;34m\u001b[0m\u001b[0;34m\u001b[0m\u001b[0m\n\u001b[0;32m----> 2\u001b[0;31m \u001b[0;32mif\u001b[0m \u001b[0;34m'depth'\u001b[0m \u001b[0;32min\u001b[0m \u001b[0mds\u001b[0m\u001b[0;34m:\u001b[0m\u001b[0;34m\u001b[0m\u001b[0;34m\u001b[0m\u001b[0m\n\u001b[0m\u001b[1;32m      3\u001b[0m     \u001b[0mds\u001b[0m\u001b[0;34m.\u001b[0m\u001b[0mdepth\u001b[0m \u001b[0;34m=\u001b[0m \u001b[0mxr\u001b[0m\u001b[0;34m.\u001b[0m\u001b[0mDataset\u001b[0m\u001b[0;34m.\u001b[0m\u001b[0mrename\u001b[0m\u001b[0;34m(\u001b[0m\u001b[0;34m{\u001b[0m\u001b[0;34m'depth'\u001b[0m\u001b[0;34m:\u001b[0m\u001b[0;34m'lev'\u001b[0m\u001b[0;34m}\u001b[0m\u001b[0;34m)\u001b[0m\u001b[0;34m\u001b[0m\u001b[0;34m\u001b[0m\u001b[0m\n\u001b[1;32m      4\u001b[0m \u001b[0;34m\u001b[0m\u001b[0m\n\u001b[1;32m      5\u001b[0m \u001b[0;31m# and units\u001b[0m\u001b[0;34m\u001b[0m\u001b[0;34m\u001b[0m\u001b[0;34m\u001b[0m\u001b[0m\n",
      "\u001b[0;31mNameError\u001b[0m: name 'ds' is not defined"
     ]
    }
   ],
   "source": [
    "#Make depth/lev coordinate uniform in name\n",
    "if 'depth' in ds:\n",
    "    ds.depth = xr.Dataset.rename({'depth':'lev'})\n",
    "\n",
    "# and units\n",
    "if ds.lev.units == 'centimeters':\n",
    "    ds.lev.values = ds.lev.values/100"
   ]
  },
  {
   "cell_type": "code",
   "execution_count": null,
   "metadata": {},
   "outputs": [],
   "source": []
  },
  {
   "cell_type": "code",
   "execution_count": null,
   "metadata": {},
   "outputs": [],
   "source": [
    "\n"
   ]
  },
  {
   "cell_type": "code",
   "execution_count": null,
   "metadata": {},
   "outputs": [],
   "source": [
    "\n"
   ]
  },
  {
   "cell_type": "code",
   "execution_count": null,
   "metadata": {},
   "outputs": [],
   "source": []
  },
  {
   "cell_type": "code",
   "execution_count": null,
   "metadata": {},
   "outputs": [],
   "source": []
  },
  {
   "cell_type": "code",
   "execution_count": null,
   "metadata": {},
   "outputs": [],
   "source": [
    "\n"
   ]
  },
  {
   "cell_type": "code",
   "execution_count": null,
   "metadata": {},
   "outputs": [],
   "source": []
  },
  {
   "cell_type": "code",
   "execution_count": null,
   "metadata": {},
   "outputs": [],
   "source": [
    "\n",
    "ds['relative_depth'] = mld/bottom_depth\n"
   ]
  },
  {
   "cell_type": "code",
   "execution_count": null,
   "metadata": {},
   "outputs": [],
   "source": []
  },
  {
   "cell_type": "code",
   "execution_count": null,
   "metadata": {},
   "outputs": [],
   "source": []
  },
  {
   "cell_type": "code",
   "execution_count": null,
   "metadata": {},
   "outputs": [],
   "source": [
    "def calc_mld(ds):\n",
    "    # getting time slice and selecting Augusts\n",
    "    ds = ds.sel(time=slice('1986','2005')).groupby('time.month').mean().sel(month=8)\n",
    "\n",
    "    # Make depth/lev coordinate uniform in name\n",
    "    if 'depth' in ds:\n",
    "        ds.depth = xr.Dataset.rename({'depth':'lev'})\n",
    "\n",
    "    # and units\n",
    "    if ds.lev.units == 'centimeters':\n",
    "        ds.lev.values = ds.lev.values/100\n",
    "\n",
    "    # calculate potential density using gibbs sea water package\n",
    "    cthetao = xr.apply_ufunc(gsw.CT_from_pt, ds.so, ds.thetao, dask='parallelized',\n",
    "                                             output_dtypes=[float,]).rename('cthetao').to_dataset() \n",
    "\n",
    "    \n",
    "    # using sigma0 here to calculate mixed layer depth\n",
    "    sigma0=xr.apply_ufunc(gsw.density.sigma0,ds.so, ds.cthetao, dask='parallelized', \n",
    "                        output_dtypes=[float, ]).rename('sigma0').to_dataset()\n",
    "    ds = xr.merge([sigma0, ds])\n",
    "  \n",
    "   \n",
    "    \n",
    "    ds.sigma0.isel(lev=0).plot()\n",
    "    \n",
    "    # calculate sigma2\n",
    "    sigma2=xr.apply_ufunc(gsw.density.sigma2,ds.so, ds.cthetao, dask='parallelized', \n",
    "                        output_dtypes=[float, ]).rename('sigma2').to_dataset()\n",
    "    ds = xr.merge([sigma2, ds])\n",
    "    \n",
    "    # Calculate mixed layer depth based on density difference from 10m\n",
    "    dens_diff = ds.sigma0 - surf_dens\n",
    "    dens_diff = dens_diff.where(dens_diff > 0.03)\n",
    "    mld = dens_diff.lev.where(dens_diff==dens_diff.min(['lev'])).max(['lev'])\n",
    "    \n",
    "    #dens_diff.isel(lev=0).plot()\n",
    "    # add mld to dataset\n",
    "    ds['mld'] = mld\n",
    "    \n",
    "    # find depth of bottom\n",
    "    test = ds.sigma0 + ds.lev\n",
    "    print(test)\n",
    "    bottom_depth = ds.lev.where(test == test.max(dim='lev')).max(dim='lev')\n",
    "    bottom_depth.plot()\n",
    "    #add to dataset\n",
    "    ds['bottom_depth'] = bottom_depth\n",
    "    ds['relative_depth'] = mld/bottom_depth\n",
    "        \n",
    "    # find bottom potential density referenced to 2000m and temperature\n",
    "    bottom_sigma2 = ds.sigma2.where(test == test.max(['lev'])).max(dim='lev')\n",
    "    print(bottom_sigma2)\n",
    "    ds['bottom_sigma2'] = bottom_sigma2\n",
    "    \n",
    "    bottom_temp = ds.thetao.where(test == test.max(['lev'])).max(dim='lev')\n",
    "    ds['bottom_temp'] = bottom_temp\n",
    "    \n",
    "    print(ds)\n",
    "    return ds"
   ]
  },
  {
   "cell_type": "code",
   "execution_count": null,
   "metadata": {},
   "outputs": [],
   "source": [
    "for i in dset_dict:\n",
    "    ds = dset_dict[i]\n",
    "    newds = calc_mld(ds)"
   ]
  },
  {
   "cell_type": "code",
   "execution_count": null,
   "metadata": {},
   "outputs": [],
   "source": [
    "newds.so.isel(lev=0).plot()"
   ]
  },
  {
   "cell_type": "code",
   "execution_count": null,
   "metadata": {},
   "outputs": [],
   "source": [
    "for i in dset_dict:\n",
    "    print(dset_dict[i].coords)"
   ]
  },
  {
   "cell_type": "code",
   "execution_count": null,
   "metadata": {},
   "outputs": [],
   "source": [
    "def get_latlon(ds):\n",
    "    # Deal with diferent names for latitude and longitude coordinates\n",
    "    if 'latitude' in ds:\n",
    "        latitude = ds.latitude\n",
    "        longitude = ds.longitude\n",
    "    elif 'lat' in ds:\n",
    "        latitude = ds.lat\n",
    "        longitude = ds.lon\n",
    "    else:\n",
    "        latitude = ds.nav_lat\n",
    "        longitude = ds.nav_lon\n",
    "        \n",
    "    if latitude.ndim==3:\n",
    "        latitude = np.squeeze(np.array(latitude[0,:,:]))\n",
    "        longitude = np.squeeze(np.array(longitude[0,:,:]))\n",
    "        nlat = np.size(latitude, axis=0)\n",
    "        nlon = np.size(longitude, axis=1)\n",
    "    elif latitude.ndim==2:\n",
    "        latitude = np.array(latitude)\n",
    "        longitude = np.array(longitude)\n",
    "        nlat = np.size(latitude, axis=0)\n",
    "        nlon = np.size(longitude, axis=1)\n",
    "    else:\n",
    "        nlat = np.size(latitude)\n",
    "        nlon = np.size(longitude)\n",
    "        latitude = np.tile(latitude,(nlon,1)).swapaxes(0,1)\n",
    "        longitude = np.tile(longitude,(nlat,1))\n",
    "        \n",
    "    return latitude, longitude"
   ]
  }
 ],
 "metadata": {
  "kernelspec": {
   "display_name": "Python 3",
   "language": "python",
   "name": "python3"
  },
  "language_info": {
   "codemirror_mode": {
    "name": "ipython",
    "version": 3
   },
   "file_extension": ".py",
   "mimetype": "text/x-python",
   "name": "python",
   "nbconvert_exporter": "python",
   "pygments_lexer": "ipython3",
   "version": "3.7.3"
  }
 },
 "nbformat": 4,
 "nbformat_minor": 4
}
