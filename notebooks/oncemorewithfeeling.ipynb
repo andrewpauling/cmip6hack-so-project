{
 "cells": [
  {
   "cell_type": "code",
   "execution_count": 1,
   "metadata": {},
   "outputs": [
    {
     "name": "stderr",
     "output_type": "stream",
     "text": [
      "/srv/conda/envs/notebook/lib/python3.7/site-packages/intake/source/discovery.py:136: FutureWarning: The drivers ['stac-catalog', 'stac-collection', 'stac-item'] do not specify entry_points and were only discovered via a package scan. This may break in a future release of intake. The packages should be updated.\n",
      "  FutureWarning)\n"
     ]
    }
   ],
   "source": [
    "%matplotlib inline\n",
    "\n",
    "import xarray as xr\n",
    "import intake\n",
    "import util \n",
    "import pprint \n",
    "import dask\n",
    "import gsw\n",
    "import matplotlib.pyplot as plt\n",
    "import numpy as np\n",
    "\n",
    "# specific plotting stuff from Lettie\n",
    "import cartopy.crs as ccrs\n",
    "import cartopy.feature as cfeature\n",
    "import numpy.ma as ma\n",
    "\n",
    "# util.py is in the local directory\n",
    "# it contains code that is common across project notebooks\n",
    "# or routines that are too extensive and might otherwise clutter\n",
    "# the notebook design\n",
    "import util\n",
    "import xesmf as xe\n",
    "\n",
    "nm = 12"
   ]
  },
  {
   "cell_type": "code",
   "execution_count": 2,
   "metadata": {},
   "outputs": [],
   "source": [
    "if util.is_ncar_host():\n",
    "    col = intake.open_esm_datastore(\"../catalogs/glade-cmip6.json\")\n",
    "else:\n",
    "    col = intake.open_esm_datastore(\"../catalogs/pangeo-cmip6.json\")"
   ]
  },
  {
   "cell_type": "code",
   "execution_count": 3,
   "metadata": {},
   "outputs": [
    {
     "data": {
      "text/html": [
       "<div>\n",
       "<style scoped>\n",
       "    .dataframe tbody tr th:only-of-type {\n",
       "        vertical-align: middle;\n",
       "    }\n",
       "\n",
       "    .dataframe tbody tr th {\n",
       "        vertical-align: top;\n",
       "    }\n",
       "\n",
       "    .dataframe thead th {\n",
       "        text-align: right;\n",
       "    }\n",
       "</style>\n",
       "<table border=\"1\" class=\"dataframe\">\n",
       "  <thead>\n",
       "    <tr style=\"text-align: right;\">\n",
       "      <th></th>\n",
       "      <th>activity_id</th>\n",
       "      <th>institution_id</th>\n",
       "      <th>source_id</th>\n",
       "      <th>experiment_id</th>\n",
       "      <th>member_id</th>\n",
       "      <th>table_id</th>\n",
       "      <th>variable_id</th>\n",
       "      <th>grid_label</th>\n",
       "      <th>zstore</th>\n",
       "      <th>dcpp_init_year</th>\n",
       "    </tr>\n",
       "  </thead>\n",
       "  <tbody>\n",
       "    <tr>\n",
       "      <th>14596</th>\n",
       "      <td>CMIP</td>\n",
       "      <td>NCAR</td>\n",
       "      <td>CESM2</td>\n",
       "      <td>historical</td>\n",
       "      <td>r1i1p1f1</td>\n",
       "      <td>Omon</td>\n",
       "      <td>so</td>\n",
       "      <td>gn</td>\n",
       "      <td>gs://cmip6/CMIP/NCAR/CESM2/historical/r1i1p1f1...</td>\n",
       "      <td>NaN</td>\n",
       "    </tr>\n",
       "    <tr>\n",
       "      <th>14602</th>\n",
       "      <td>CMIP</td>\n",
       "      <td>NCAR</td>\n",
       "      <td>CESM2</td>\n",
       "      <td>historical</td>\n",
       "      <td>r1i1p1f1</td>\n",
       "      <td>Omon</td>\n",
       "      <td>thetao</td>\n",
       "      <td>gn</td>\n",
       "      <td>gs://cmip6/CMIP/NCAR/CESM2/historical/r1i1p1f1...</td>\n",
       "      <td>NaN</td>\n",
       "    </tr>\n",
       "  </tbody>\n",
       "</table>\n",
       "</div>"
      ],
      "text/plain": [
       "      activity_id institution_id source_id experiment_id member_id table_id  \\\n",
       "14596        CMIP           NCAR     CESM2    historical  r1i1p1f1     Omon   \n",
       "14602        CMIP           NCAR     CESM2    historical  r1i1p1f1     Omon   \n",
       "\n",
       "      variable_id grid_label  \\\n",
       "14596          so         gn   \n",
       "14602      thetao         gn   \n",
       "\n",
       "                                                  zstore  dcpp_init_year  \n",
       "14596  gs://cmip6/CMIP/NCAR/CESM2/historical/r1i1p1f1...             NaN  \n",
       "14602  gs://cmip6/CMIP/NCAR/CESM2/historical/r1i1p1f1...             NaN  "
      ]
     },
     "execution_count": 3,
     "metadata": {},
     "output_type": "execute_result"
    }
   ],
   "source": [
    "cat = col.search(experiment_id=['historical'],table_id=['Omon'],institution_id='NCAR', variable_id=['thetao','so'],\n",
    "                 member_id='r1i1p1f1', grid_label='gn')\n",
    "cat.df"
   ]
  },
  {
   "cell_type": "code",
   "execution_count": 4,
   "metadata": {},
   "outputs": [
    {
     "name": "stdout",
     "output_type": "stream",
     "text": [
      "--> The keys in the returned dictionary of datasets are constructed as follows:\n",
      "\t'activity_id.institution_id.source_id.experiment_id.table_id.grid_label'\n",
      "\n",
      "--> There will be 1 group(s)\n"
     ]
    }
   ],
   "source": [
    "dset_dict = cat.to_dataset_dict(zarr_kwargs={'consolidated': True, 'decode_times': True}, \n",
    "                                cdf_kwargs={'chunks': {}, 'decode_times': True})"
   ]
  },
  {
   "cell_type": "code",
   "execution_count": null,
   "metadata": {},
   "outputs": [],
   "source": [
    "# need to find index of depth or lev that is closest to 10m. If units are in centimeters, convert to meters\n",
    "for i in dset_dict:\n",
    "    if 'depth' in dset_dict[i]:\n",
    "        dset_dict[i].depth = xr.Dataset.rename({'depth':'lev'})\n",
    "    if dset_dict[i].lev.units == 'centimeters':\n",
    "        dset_dict[i].lev.values = dset_dict[i].lev.values/100\n",
    "        dset_dict[i].lev.attrs['units'] = 'm'\n",
    "    \n",
    "# big mamma loop-de-loop\n",
    "\n",
    "for i in dset_dict:\n",
    "    dset_dict[i]= dset_dict[i].sel(time=slice('1986','2005')).groupby('time.month').mean().sel(month=8)\n",
    "    \n",
    "    # calculate cthetao and add to ds\n",
    "    cthetao = xr.apply_ufunc(gsw.CT_from_pt, dset_dict[i].so, dset_dict[i].thetao, dask='parallelized',\n",
    "                                         output_dtypes=[float,]).rename('cthetao').to_dataset()     \n",
    "    dset_dict[i] = xr.merge([dset_dict[i],cthetao])\n",
    "    \n",
    "    # calculate sigma0 and add to ds\n",
    "    sigma0 = xr.apply_ufunc(gsw.density.sigma0,dset_dict[i].so, dset_dict[i].cthetao, dask='parallelized', \n",
    "                        output_dtypes=[float, ]).rename('sigma0').to_dataset()                                                                          \n",
    "    dset_dict[i] = xr.merge([dset_dict[i],sigma0])\n",
    "    \n",
    "    # calculate sigma2 and add to ds\n",
    "    sigma2=xr.apply_ufunc(gsw.density.sigma2,dset_dict[i].so, dset_dict[i].cthetao, dask='parallelized', \n",
    "                        output_dtypes=[float, ]).rename('sigma2').to_dataset()\n",
    "    dset_dict[i] = xr.merge([sigma2, dset_dict[i]])\n",
    "    \n",
    "    \n",
    "    # interpolate density data\n",
    "    dsi = dset_dict[i].sigma0.interp(lev=np.linspace(0,20,21))\n",
    "    surf_dens = dsi.sel(lev = 10)\n",
    "    surf_dens.plot(); plt.show(); plt.close()\n",
    "    \n",
    "    # Calculate mixed layer depth based on density difference from 10m\n",
    "    dens_diff = dset_dict[i].sigma0 - surf_dens\n",
    "    dens_diff = dens_diff.where(dens_diff > 0.03)\n",
    "    mld = dens_diff.lev.where(dens_diff==dens_diff.min(['lev'])).max(['lev'])    \n",
    "    # plot for sanity check\n",
    "    mld.plot(); plt.show(); plt.close()\n",
    "        \n",
    "    # get variables at bottom\n",
    "    test = dset_dict[i].sigma0 + dset_dict[i].lev\n",
    "    bottom_depth = dset_dict[i].lev.where(test == test.max(dim='lev')).max(dim='lev')\n",
    "    bottom_sigma2 = dset_dict[i].sigma2.where(test == test.max(['lev'])).max(dim='lev')\n",
    "    bottom_temp = dset_dict[i].thetao.where(test == test.max(['lev'])).max(dim='lev')\n",
    "    dset_dict[i]['bottom_depth'] = bottom_depth\n",
    "    dset_dict[i]['bottom_sigma2'] = bottom_sigma2\n",
    "    dset_dict[i]['bottom_temp'] = bottom_temp\n",
    "    \n",
    "    # ratio of mld to total depth\n",
    "    dset_dict[i]['relative_depth'] = mld/bottom_depth\n",
    "    print(dset_dict[i].relative_depth)\n",
    "    "
   ]
  },
  {
   "cell_type": "code",
   "execution_count": null,
   "metadata": {},
   "outputs": [],
   "source": []
  },
  {
   "cell_type": "code",
   "execution_count": 22,
   "metadata": {},
   "outputs": [
    {
     "name": "stdout",
     "output_type": "stream",
     "text": [
      "0\n"
     ]
    },
    {
     "name": "stderr",
     "output_type": "stream",
     "text": [
      "/srv/conda/envs/notebook/lib/python3.7/site-packages/xesmf/backend.py:36: UserWarning: Input array is not F_CONTIGUOUS. Will affect performance.\n",
      "  warnings.warn(\"Input array is not F_CONTIGUOUS. \"\n"
     ]
    },
    {
     "name": "stdout",
     "output_type": "stream",
     "text": [
      "Reuse existing file: bilinear_384x320_361x161_peri.nc\n"
     ]
    },
    {
     "name": "stderr",
     "output_type": "stream",
     "text": [
      "/srv/conda/envs/notebook/lib/python3.7/site-packages/dask/array/numpy_compat.py:40: RuntimeWarning: invalid value encountered in true_divide\n",
      "  x = np.divide(x1, x2, out)\n",
      "/srv/conda/envs/notebook/lib/python3.7/site-packages/dask/utils.py:29: RuntimeWarning: All-NaN slice encountered\n",
      "  return func(*args, **kwargs)\n",
      "/srv/conda/envs/notebook/lib/python3.7/site-packages/toolz/functoolz.py:488: RuntimeWarning: All-NaN slice encountered\n",
      "  ret = f(ret)\n",
      "/srv/conda/envs/notebook/lib/python3.7/site-packages/dask/array/numpy_compat.py:40: RuntimeWarning: invalid value encountered in true_divide\n",
      "  x = np.divide(x1, x2, out)\n",
      "/srv/conda/envs/notebook/lib/python3.7/site-packages/dask/utils.py:29: RuntimeWarning: All-NaN slice encountered\n",
      "  return func(*args, **kwargs)\n",
      "/srv/conda/envs/notebook/lib/python3.7/site-packages/toolz/functoolz.py:488: RuntimeWarning: All-NaN slice encountered\n",
      "  ret = f(ret)\n",
      "/srv/conda/envs/notebook/lib/python3.7/site-packages/dask/array/numpy_compat.py:40: RuntimeWarning: invalid value encountered in true_divide\n",
      "  x = np.divide(x1, x2, out)\n",
      "/srv/conda/envs/notebook/lib/python3.7/site-packages/dask/utils.py:29: RuntimeWarning: All-NaN slice encountered\n",
      "  return func(*args, **kwargs)\n",
      "/srv/conda/envs/notebook/lib/python3.7/site-packages/toolz/functoolz.py:488: RuntimeWarning: All-NaN slice encountered\n",
      "  ret = f(ret)\n",
      "/srv/conda/envs/notebook/lib/python3.7/site-packages/dask/core.py:119: RuntimeWarning: invalid value encountered in greater\n",
      "  return func(*args2)\n"
     ]
    },
    {
     "data": {
      "image/png": "[encoded data removed]",
      "text/plain": [
       "<Figure size 1440x1440 with 1 Axes>"
      ]
     },
     "metadata": {
      "needs_background": "light"
     },
     "output_type": "display_data"
    }
   ],
   "source": [
    "# Now let's try plotting:\n",
    "\n",
    "# New evenly spaced, monotonically increasing lat-lon grid for regridding the sea ice\n",
    "# concentration for the contour plot (otherwise the contour will reverse on itself)\n",
    "res_new = 1 #degrees; the resolution of the new grid\n",
    "lat_new = -80 + np.arange(1+(2*80)/res_new) # only go from 80S to 80N\n",
    "lon_new = np.arange(1+(360)/res_new)\n",
    "lon_new, lat_new = np.meshgrid(lon_new,lat_new)\n",
    "\n",
    "index = 0 # dummy index\n",
    "fig = plt.figure(figsize=(20,20))\n",
    "for i in dset_dict:\n",
    "    print(index) # to make sure the calculation hasn't stalled\n",
    "    \n",
    "    # Deal with diferent names for latitude and longitude coordinates\n",
    "    if 'latitude' in dset_dict[i]:\n",
    "        latitude = dset_dict[i].latitude\n",
    "        longitude = dset_dict[i].longitude\n",
    "    elif 'lat' in dset_dict[i]:\n",
    "        latitude = dset_dict[i].lat\n",
    "        longitude = dset_dict[i].lon\n",
    "    else:\n",
    "        latitude = dset_dict[i].nav_lat\n",
    "        longitude = dset_dict[i].nav_lon\n",
    "        \n",
    "    # Deal with multiple ensemble members, 1D grid vectors\n",
    "    if latitude.ndim==3:\n",
    "        latitude = np.squeeze(np.array(latitude[0,:,:]))\n",
    "        longitude = np.squeeze(np.array(longitude[0,:,:]))\n",
    "        nlat = np.size(latitude, axis=0)\n",
    "        nlon = np.size(longitude, axis=1)\n",
    "    elif latitude.ndim==2:\n",
    "        latitude = np.array(latitude)\n",
    "        longitude = np.array(longitude)\n",
    "        nlat = np.size(latitude, axis=0)\n",
    "        nlon = np.size(longitude, axis=1)\n",
    "    else:\n",
    "        nlat = np.size(latitude)\n",
    "        nlon = np.size(longitude)\n",
    "        latitude = np.tile(latitude,(nlon,1)).swapaxes(0,1)\n",
    "        longitude = np.tile(longitude,(nlat,1))\n",
    "        \n",
    "    # Load in the bottom potential density and find its size\n",
    "    data = dset_dict[i].bottom_sigma2.squeeze()\n",
    "    ndim0 = np.size(data,axis=0)\n",
    "    ndim1 = np.size(data,axis=1)\n",
    "    \n",
    "    # Regrid\n",
    "    data_new = data\n",
    "    lat_temp = latitude.copy()\n",
    "    lon_temp = longitude.copy()\n",
    "    method = np.str('bilinear')\n",
    "    # Make method exceptions for models with weird grids around antarctica\n",
    "#     if dset_dict[i].source_id == 'CNRM-CM6-1':\n",
    "#         method = np.str('nearest_s2d')\n",
    "#     elif dset_dict[i].source_id == 'CNRM-ESM2-1':\n",
    "#         method = np.str('nearest_s2d')\n",
    "#     elif dset_dict[i].source_id == 'EC-Earth3':\n",
    "#         method = np.str('nearest_s2d')\n",
    "#     elif dset_dict[i].source_id == 'EC-Earth3-Veg':\n",
    "#         method = np.str('nearest_s2d')\n",
    "#     elif dset_dict[i].source_id == 'IPSL-CM6A-LR':\n",
    "#         method = np.str('nearest_s2d')\n",
    "    # Make sure the dimensions of the new grid are in the right order\n",
    "    lat_temp = lat_new.copy()\n",
    "    lon_temp = lon_new.copy()\n",
    "    if ndim0>ndim1:\n",
    "        lat_temp = np.transpose(lat_temp)\n",
    "        lon_temp = np.transpose(lon_temp)\n",
    "    lat_temp2 = latitude.copy()\n",
    "    lon_temp2 = longitude.copy()\n",
    "    lat_temp2[np.abs(lat_temp2)>90] = np.nan\n",
    "    lon_temp2[np.abs(lon_temp2)>360] = np.nan\n",
    "    # Create the xarray datasets to feed into the xesmf regridder\n",
    "    ds_in = xr.Dataset({'lat': (['x','y'],lat_temp2),\n",
    "                        'lon': (['x','y'],lon_temp2)})\n",
    "    ds_out = xr.Dataset({'lat': (['x','y'],lat_temp),\n",
    "                            'lon': (['x','y'],lon_temp)})\n",
    "    # Regrid the data\n",
    "    f = xe.Regridder(ds_in, ds_out, method, periodic=True, reuse_weights=True)\n",
    "    data_new = f(data)\n",
    "    threshold_new = f(dset_dict[i].relative_depth.squeeze())\n",
    "    \n",
    "    # A data mask for SouthPolarStereo plots\n",
    "    mydata = ma.masked_where(latitude>0.,data.copy())\n",
    "    mydata_new = ma.masked_where(lat_temp>0.,data_new.copy())\n",
    "    \n",
    "    # Make a pcolor plot of bottom potential density, and contour the >50% mld/total depth threshold\n",
    "    ax = plt.subplot(5,4,index+1,projection = ccrs.SouthPolarStereo())\n",
    "    ax.add_feature(cfeature.LAND,zorder=100,edgecolor='k')\n",
    "    ax.set_extent([0.005, 360, -90, -50], crs=ccrs.PlateCarree())\n",
    "    this = ax.pcolormesh(longitude,latitude,mydata,transform=ccrs.PlateCarree(),cmap = plt.cm.coolwarm, vmin=0, vmax=30)\n",
    "    this2 = ax.contour(lon_temp,lat_temp,threshold_new,transform=ccrs.PlateCarree(),colors='k')\n",
    "    ax.colorbar()\n",
    "#     plt.title(np.str(dset_dict[i].source_id))\n",
    "    \n",
    "    index = index+1"
   ]
  },
  {
   "cell_type": "code",
   "execution_count": 34,
   "metadata": {},
   "outputs": [
    {
     "data": {
      "image/png": "[encoded data removed]",
      "text/plain": [
       "<Figure size 432x288 with 1 Axes>"
      ]
     },
     "metadata": {
      "needs_background": "light"
     },
     "output_type": "display_data"
    }
   ],
   "source": [
    "ax = plt.subplot(projection = ccrs.SouthPolarStereo())\n",
    "ax.add_feature(cfeature.LAND,zorder=100,edgecolor='k')\n",
    "ax.set_extent([0.005, 360, -90, -50], crs=ccrs.PlateCarree())\n",
    "this = ax.pcolormesh(longitude,latitude,mydata,transform=ccrs.PlateCarree(),cmap = plt.cm.coolwarm, vmin=0, vmax=30)    this2 = ax.contour(lon_temp,lat_temp,threshold_new,transform=ccrs.PlateCarree(),colors='k')\n"
   ]
  },
  {
   "cell_type": "code",
   "execution_count": 35,
   "metadata": {},
   "outputs": [
    {
     "name": "stderr",
     "output_type": "stream",
     "text": [
      "/srv/conda/envs/notebook/lib/python3.7/site-packages/dask/array/numpy_compat.py:40: RuntimeWarning: invalid value encountered in true_divide\n",
      "  x = np.divide(x1, x2, out)\n",
      "/srv/conda/envs/notebook/lib/python3.7/site-packages/dask/utils.py:29: RuntimeWarning: All-NaN slice encountered\n",
      "  return func(*args, **kwargs)\n",
      "/srv/conda/envs/notebook/lib/python3.7/site-packages/toolz/functoolz.py:488: RuntimeWarning: All-NaN slice encountered\n",
      "  ret = f(ret)\n",
      "/srv/conda/envs/notebook/lib/python3.7/site-packages/dask/core.py:119: RuntimeWarning: invalid value encountered in greater\n",
      "  return func(*args2)\n",
      "/srv/conda/envs/notebook/lib/python3.7/site-packages/cartopy/mpl/geoaxes.py:1366: UserWarning: The following kwargs were not used by contour: 'linewidth'\n",
      "  result = matplotlib.axes.Axes.contour(self, *args, **kwargs)\n"
     ]
    },
    {
     "data": {
      "image/png": "[encoded data removed]",
      "text/plain": [
       "<Figure size 432x288 with 1 Axes>"
      ]
     },
     "metadata": {
      "needs_background": "light"
     },
     "output_type": "display_data"
    }
   ],
   "source": [
    "ax = plt.subplot(projection = ccrs.SouthPolarStereo())\n",
    "ax.add_feature(cfeature.LAND,zorder=100,edgecolor='k')\n",
    "ax.set_extent([0.005, 360, -90, -50], crs=ccrs.PlateCarree())\n",
    "this = ax.pcolormesh(longitude,latitude,mydata,transform=ccrs.PlateCarree())#,cmap = plt.cm.coolwarm, vmin=0, vmax=30)    this2 = ax.contour(lon_temp,lat_temp,threshold_new,transform=ccrs.PlateCarree(),colors='k')\n",
    "this2 = ax.contour(lon_temp,lat_temp,threshold_new,transform=ccrs.PlateCarree(),colors='k', linewidth=2)"
   ]
  },
  {
   "cell_type": "code",
   "execution_count": null,
   "metadata": {},
   "outputs": [],
   "source": []
  }
 ],
 "metadata": {
  "kernelspec": {
   "display_name": "Python 3",
   "language": "python",
   "name": "python3"
  },
  "language_info": {
   "codemirror_mode": {
    "name": "ipython",
    "version": 3
   },
   "file_extension": ".py",
   "mimetype": "text/x-python",
   "name": "python",
   "nbconvert_exporter": "python",
   "pygments_lexer": "ipython3",
   "version": "3.7.3"
  }
 },
 "nbformat": 4,
 "nbformat_minor": 4
}
