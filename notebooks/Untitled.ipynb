{
 "cells": [
  {
   "cell_type": "code",
   "execution_count": 20,
   "metadata": {},
   "outputs": [],
   "source": [
    "import xarray as xr\n",
    "import numpy as np\n",
    "import matplotlib.pyplot as plt\n",
    "import cartopy.crs as ccrs\n",
    "import cartopy\n",
    "import warnings\n",
    "import gcsfs\n",
    "from xhistogram.xarray import histogram\n",
    "import intake\n",
    "import util\n",
    "import gsw\n",
    "import dask"
   ]
  },
  {
   "cell_type": "code",
   "execution_count": 21,
   "metadata": {},
   "outputs": [
    {
     "data": {
      "text/plain": [
       "pangeo-cmip6-ESM Collection with 28691 entries:\n",
       "\t> 10 activity_id(s)\n",
       "\n",
       "\t> 23 institution_id(s)\n",
       "\n",
       "\t> 48 source_id(s)\n",
       "\n",
       "\t> 29 experiment_id(s)\n",
       "\n",
       "\t> 86 member_id(s)\n",
       "\n",
       "\t> 23 table_id(s)\n",
       "\n",
       "\t> 190 variable_id(s)\n",
       "\n",
       "\t> 7 grid_label(s)\n",
       "\n",
       "\t> 28691 zstore(s)\n",
       "\n",
       "\t> 59 dcpp_init_year(s)"
      ]
     },
     "execution_count": 21,
     "metadata": {},
     "output_type": "execute_result"
    }
   ],
   "source": [
    "if util.is_ncar_host():\n",
    "    col = intake.open_esm_datastore(\"../catalogs/glade-cmip6.json\")\n",
    "else:\n",
    "    col = intake.open_esm_datastore(\"../catalogs/pangeo-cmip6.json\")\n",
    "col"
   ]
  },
  {
   "cell_type": "code",
   "execution_count": 22,
   "metadata": {},
   "outputs": [
    {
     "data": {
      "text/html": [
       "<div>\n",
       "<style scoped>\n",
       "    .dataframe tbody tr th:only-of-type {\n",
       "        vertical-align: middle;\n",
       "    }\n",
       "\n",
       "    .dataframe tbody tr th {\n",
       "        vertical-align: top;\n",
       "    }\n",
       "\n",
       "    .dataframe thead th {\n",
       "        text-align: right;\n",
       "    }\n",
       "</style>\n",
       "<table border=\"1\" class=\"dataframe\">\n",
       "  <thead>\n",
       "    <tr style=\"text-align: right;\">\n",
       "      <th></th>\n",
       "      <th>activity_id</th>\n",
       "      <th>institution_id</th>\n",
       "      <th>source_id</th>\n",
       "      <th>experiment_id</th>\n",
       "      <th>member_id</th>\n",
       "      <th>table_id</th>\n",
       "      <th>variable_id</th>\n",
       "      <th>grid_label</th>\n",
       "      <th>zstore</th>\n",
       "      <th>dcpp_init_year</th>\n",
       "    </tr>\n",
       "  </thead>\n",
       "  <tbody>\n",
       "    <tr>\n",
       "      <th>14596</th>\n",
       "      <td>CMIP</td>\n",
       "      <td>NCAR</td>\n",
       "      <td>CESM2</td>\n",
       "      <td>historical</td>\n",
       "      <td>r1i1p1f1</td>\n",
       "      <td>Omon</td>\n",
       "      <td>so</td>\n",
       "      <td>gn</td>\n",
       "      <td>gs://cmip6/CMIP/NCAR/CESM2/historical/r1i1p1f1...</td>\n",
       "      <td>NaN</td>\n",
       "    </tr>\n",
       "    <tr>\n",
       "      <th>14602</th>\n",
       "      <td>CMIP</td>\n",
       "      <td>NCAR</td>\n",
       "      <td>CESM2</td>\n",
       "      <td>historical</td>\n",
       "      <td>r1i1p1f1</td>\n",
       "      <td>Omon</td>\n",
       "      <td>thetao</td>\n",
       "      <td>gn</td>\n",
       "      <td>gs://cmip6/CMIP/NCAR/CESM2/historical/r1i1p1f1...</td>\n",
       "      <td>NaN</td>\n",
       "    </tr>\n",
       "  </tbody>\n",
       "</table>\n",
       "</div>"
      ],
      "text/plain": [
       "      activity_id institution_id source_id experiment_id member_id table_id  \\\n",
       "14596        CMIP           NCAR     CESM2    historical  r1i1p1f1     Omon   \n",
       "14602        CMIP           NCAR     CESM2    historical  r1i1p1f1     Omon   \n",
       "\n",
       "      variable_id grid_label  \\\n",
       "14596          so         gn   \n",
       "14602      thetao         gn   \n",
       "\n",
       "                                                  zstore  dcpp_init_year  \n",
       "14596  gs://cmip6/CMIP/NCAR/CESM2/historical/r1i1p1f1...             NaN  \n",
       "14602  gs://cmip6/CMIP/NCAR/CESM2/historical/r1i1p1f1...             NaN  "
      ]
     },
     "execution_count": 22,
     "metadata": {},
     "output_type": "execute_result"
    }
   ],
   "source": [
    "cat = col.search(experiment_id=['historical'], table_id='Omon', institution_id='NCAR', member_id='r1i1p1f1', variable_id=['thetao','so','siconc'], grid_label='gn')\n",
    "cat.df"
   ]
  },
  {
   "cell_type": "code",
   "execution_count": 23,
   "metadata": {},
   "outputs": [
    {
     "name": "stdout",
     "output_type": "stream",
     "text": [
      "--> The keys in the returned dictionary of datasets are constructed as follows:\n",
      "\t'activity_id.institution_id.source_id.experiment_id.table_id.grid_label'\n",
      "\n",
      "--> There will be 1 group(s)\n"
     ]
    },
    {
     "data": {
      "text/plain": [
       "dict_keys(['CMIP.NCAR.CESM2.historical.Omon.gn'])"
      ]
     },
     "execution_count": 23,
     "metadata": {},
     "output_type": "execute_result"
    }
   ],
   "source": [
    "dset_dict = cat.to_dataset_dict(zarr_kwargs={'consolidated': True, 'decode_times': True}, \n",
    "                                cdf_kwargs={'chunks': {}, 'decode_times': True})\n",
    "dset_dict.keys()"
   ]
  },
  {
   "cell_type": "code",
   "execution_count": 16,
   "metadata": {},
   "outputs": [
    {
     "ename": "ValueError",
     "evalue": "indexes along dimension 'lev' are not equal",
     "output_type": "error",
     "traceback": [
      "\u001b[0;31m---------------------------------------------------------------------------\u001b[0m",
      "\u001b[0;31mValueError\u001b[0m                                Traceback (most recent call last)",
      "\u001b[0;32m<ipython-input-16-ef840cc0230f>\u001b[0m in \u001b[0;36m<module>\u001b[0;34m\u001b[0m\n\u001b[1;32m     64\u001b[0m \u001b[0;34m\u001b[0m\u001b[0m\n\u001b[1;32m     65\u001b[0m \u001b[0;32mfor\u001b[0m \u001b[0mi\u001b[0m \u001b[0;32min\u001b[0m \u001b[0mdset_dict\u001b[0m\u001b[0;34m:\u001b[0m\u001b[0;34m\u001b[0m\u001b[0;34m\u001b[0m\u001b[0m\n\u001b[0;32m---> 66\u001b[0;31m      \u001b[0mnewds\u001b[0m\u001b[0;34m,\u001b[0m \u001b[0mmld\u001b[0m\u001b[0;34m,\u001b[0m \u001b[0mrelative_depth\u001b[0m\u001b[0;34m,\u001b[0m \u001b[0mbottom_sigma2\u001b[0m\u001b[0;34m,\u001b[0m \u001b[0mbottom_temp\u001b[0m \u001b[0;34m=\u001b[0m \u001b[0mcalc_mld\u001b[0m\u001b[0;34m(\u001b[0m\u001b[0mdset_dict\u001b[0m\u001b[0;34m[\u001b[0m\u001b[0mi\u001b[0m\u001b[0;34m]\u001b[0m\u001b[0;34m)\u001b[0m\u001b[0;34m\u001b[0m\u001b[0;34m\u001b[0m\u001b[0m\n\u001b[0m",
      "\u001b[0;32m<ipython-input-16-ef840cc0230f>\u001b[0m in \u001b[0;36mcalc_mld\u001b[0;34m(ds)\u001b[0m\n\u001b[1;32m     18\u001b[0m     \u001b[0;31m# using sigma0 here to calculate mixed layer depth\u001b[0m\u001b[0;34m\u001b[0m\u001b[0;34m\u001b[0m\u001b[0;34m\u001b[0m\u001b[0m\n\u001b[1;32m     19\u001b[0m     tmp_ds2 = xr.apply_ufunc(gsw.density.sigma0,ds.so, tmp_ds.cthetao, dask='parallelized', \n\u001b[0;32m---> 20\u001b[0;31m                         output_dtypes=[float, ]).rename('sigma0').to_dataset()\n\u001b[0m\u001b[1;32m     21\u001b[0m     \u001b[0;31m#ds = xr.merge([sigma0, ds])\u001b[0m\u001b[0;34m\u001b[0m\u001b[0;34m\u001b[0m\u001b[0;34m\u001b[0m\u001b[0m\n\u001b[1;32m     22\u001b[0m \u001b[0;34m\u001b[0m\u001b[0m\n",
      "\u001b[0;32m/srv/conda/envs/notebook/lib/python3.7/site-packages/xarray/core/computation.py\u001b[0m in \u001b[0;36mapply_ufunc\u001b[0;34m(func, input_core_dims, output_core_dims, exclude_dims, vectorize, join, dataset_join, dataset_fill_value, keep_attrs, kwargs, dask, output_dtypes, output_sizes, *args)\u001b[0m\n\u001b[1;32m   1042\u001b[0m             \u001b[0mjoin\u001b[0m\u001b[0;34m=\u001b[0m\u001b[0mjoin\u001b[0m\u001b[0;34m,\u001b[0m\u001b[0;34m\u001b[0m\u001b[0;34m\u001b[0m\u001b[0m\n\u001b[1;32m   1043\u001b[0m             \u001b[0mexclude_dims\u001b[0m\u001b[0;34m=\u001b[0m\u001b[0mexclude_dims\u001b[0m\u001b[0;34m,\u001b[0m\u001b[0;34m\u001b[0m\u001b[0;34m\u001b[0m\u001b[0m\n\u001b[0;32m-> 1044\u001b[0;31m             \u001b[0mkeep_attrs\u001b[0m\u001b[0;34m=\u001b[0m\u001b[0mkeep_attrs\u001b[0m\u001b[0;34m\u001b[0m\u001b[0;34m\u001b[0m\u001b[0m\n\u001b[0m\u001b[1;32m   1045\u001b[0m         )\n\u001b[1;32m   1046\u001b[0m     \u001b[0;32melif\u001b[0m \u001b[0many\u001b[0m\u001b[0;34m(\u001b[0m\u001b[0misinstance\u001b[0m\u001b[0;34m(\u001b[0m\u001b[0ma\u001b[0m\u001b[0;34m,\u001b[0m \u001b[0mVariable\u001b[0m\u001b[0;34m)\u001b[0m \u001b[0;32mfor\u001b[0m \u001b[0ma\u001b[0m \u001b[0;32min\u001b[0m \u001b[0margs\u001b[0m\u001b[0;34m)\u001b[0m\u001b[0;34m:\u001b[0m\u001b[0;34m\u001b[0m\u001b[0;34m\u001b[0m\u001b[0m\n",
      "\u001b[0;32m/srv/conda/envs/notebook/lib/python3.7/site-packages/xarray/core/computation.py\u001b[0m in \u001b[0;36mapply_dataarray_vfunc\u001b[0;34m(func, signature, join, exclude_dims, keep_attrs, *args)\u001b[0m\n\u001b[1;32m    222\u001b[0m     \u001b[0;32mif\u001b[0m \u001b[0mlen\u001b[0m\u001b[0;34m(\u001b[0m\u001b[0margs\u001b[0m\u001b[0;34m)\u001b[0m \u001b[0;34m>\u001b[0m \u001b[0;36m1\u001b[0m\u001b[0;34m:\u001b[0m\u001b[0;34m\u001b[0m\u001b[0;34m\u001b[0m\u001b[0m\n\u001b[1;32m    223\u001b[0m         args = deep_align(\n\u001b[0;32m--> 224\u001b[0;31m             \u001b[0margs\u001b[0m\u001b[0;34m,\u001b[0m \u001b[0mjoin\u001b[0m\u001b[0;34m=\u001b[0m\u001b[0mjoin\u001b[0m\u001b[0;34m,\u001b[0m \u001b[0mcopy\u001b[0m\u001b[0;34m=\u001b[0m\u001b[0;32mFalse\u001b[0m\u001b[0;34m,\u001b[0m \u001b[0mexclude\u001b[0m\u001b[0;34m=\u001b[0m\u001b[0mexclude_dims\u001b[0m\u001b[0;34m,\u001b[0m \u001b[0mraise_on_invalid\u001b[0m\u001b[0;34m=\u001b[0m\u001b[0;32mFalse\u001b[0m\u001b[0;34m\u001b[0m\u001b[0;34m\u001b[0m\u001b[0m\n\u001b[0m\u001b[1;32m    225\u001b[0m         )\n\u001b[1;32m    226\u001b[0m \u001b[0;34m\u001b[0m\u001b[0m\n",
      "\u001b[0;32m/srv/conda/envs/notebook/lib/python3.7/site-packages/xarray/core/alignment.py\u001b[0m in \u001b[0;36mdeep_align\u001b[0;34m(objects, join, copy, indexes, exclude, raise_on_invalid, fill_value)\u001b[0m\n\u001b[1;32m    403\u001b[0m         \u001b[0mindexes\u001b[0m\u001b[0;34m=\u001b[0m\u001b[0mindexes\u001b[0m\u001b[0;34m,\u001b[0m\u001b[0;34m\u001b[0m\u001b[0;34m\u001b[0m\u001b[0m\n\u001b[1;32m    404\u001b[0m         \u001b[0mexclude\u001b[0m\u001b[0;34m=\u001b[0m\u001b[0mexclude\u001b[0m\u001b[0;34m,\u001b[0m\u001b[0;34m\u001b[0m\u001b[0;34m\u001b[0m\u001b[0m\n\u001b[0;32m--> 405\u001b[0;31m         \u001b[0mfill_value\u001b[0m\u001b[0;34m=\u001b[0m\u001b[0mfill_value\u001b[0m\u001b[0;34m\u001b[0m\u001b[0;34m\u001b[0m\u001b[0m\n\u001b[0m\u001b[1;32m    406\u001b[0m     )\n\u001b[1;32m    407\u001b[0m \u001b[0;34m\u001b[0m\u001b[0m\n",
      "\u001b[0;32m/srv/conda/envs/notebook/lib/python3.7/site-packages/xarray/core/alignment.py\u001b[0m in \u001b[0;36malign\u001b[0;34m(join, copy, indexes, exclude, fill_value, *objects)\u001b[0m\n\u001b[1;32m    296\u001b[0m                 \u001b[0;32mif\u001b[0m \u001b[0mjoin\u001b[0m \u001b[0;34m==\u001b[0m \u001b[0;34m\"exact\"\u001b[0m\u001b[0;34m:\u001b[0m\u001b[0;34m\u001b[0m\u001b[0;34m\u001b[0m\u001b[0m\n\u001b[1;32m    297\u001b[0m                     raise ValueError(\n\u001b[0;32m--> 298\u001b[0;31m                         \u001b[0;34m\"indexes along dimension {!r} are not equal\"\u001b[0m\u001b[0;34m.\u001b[0m\u001b[0mformat\u001b[0m\u001b[0;34m(\u001b[0m\u001b[0mdim\u001b[0m\u001b[0;34m)\u001b[0m\u001b[0;34m\u001b[0m\u001b[0;34m\u001b[0m\u001b[0m\n\u001b[0m\u001b[1;32m    299\u001b[0m                     )\n\u001b[1;32m    300\u001b[0m                 \u001b[0mindex\u001b[0m \u001b[0;34m=\u001b[0m \u001b[0mjoiner\u001b[0m\u001b[0;34m(\u001b[0m\u001b[0mmatching_indexes\u001b[0m\u001b[0;34m)\u001b[0m\u001b[0;34m\u001b[0m\u001b[0;34m\u001b[0m\u001b[0m\n",
      "\u001b[0;31mValueError\u001b[0m: indexes along dimension 'lev' are not equal"
     ]
    }
   ],
   "source": [
    "def calc_mld(ds):\n",
    "    # select time range and get August values\n",
    "    ds = ds.sel(time=slice('1986', '2005')).groupby('time.month').mean().sel(month=8)\n",
    "    \n",
    "    # Make depth/lev coordinate uniform in name\n",
    "    if 'depth' in ds:\n",
    "        ds.depth = xr.Dataset.rename({'depth':'lev'})\n",
    "    \n",
    "    # and units\n",
    "    if ds.lev.units == 'centimeters':\n",
    "        ds.lev.values = ds.lev.values/100\n",
    "    \n",
    "    # calculate potential density using gibbs sea water package\n",
    "    cthetao = xr.apply_ufunc(gsw.CT_from_pt, ds.so, ds.thetao, dask='parallelized',\n",
    "                                             output_dtypes=[float,]).rename('cthetao').to_dataset() \n",
    "    #ds = xr.merge([cthetao, ds])\n",
    "    \n",
    "    # using sigma0 here to calculate mixed layer depth\n",
    "    sigma0=xr.apply_ufunc(gsw.density.sigma0,ds.so, cthetao, dask='parallelized', \n",
    "                        output_dtypes=[float, ]).rename('sigma0').to_dataset()\n",
    "    #ds = xr.merge([sigma0, ds])\n",
    "  \n",
    "    # Interpolate potential density\n",
    "    dsi = sigma0.interp(lev=np.linspace(0,20,21))\n",
    "    surf_dens = dsi.sel(lev = 10)\n",
    "    \n",
    "    sigma0.isel(lev=0).plot()\n",
    "    \n",
    "    # calculate sigma2\n",
    "    sigma2=xr.apply_ufunc(gsw.density.sigma2,ds.so, cthetao, dask='parallelized', \n",
    "                        output_dtypes=[float, ]).rename('sigma2').to_dataset()\n",
    "    #ds = xr.merge([sigma2, ds])\n",
    "    \n",
    "    # Calculate mixed layer depth based on density difference from 10m\n",
    "    dens_diff = sigma0 - surf_dens\n",
    "    dens_diff = dens_diff.where(dens_diff > 0.03)\n",
    "    mld = dens_diff.lev.where(dens_diff==dens_diff.min(['lev'])).max(['lev'])\n",
    "    \n",
    "    #dens_diff.isel(lev=0).plot()\n",
    "    # add mld to dataset\n",
    "    ds['mld'] = mld\n",
    "    \n",
    "    # find depth of bottom\n",
    "    test = sigma0 + ds.lev\n",
    "    print(test)\n",
    "    bottom_depth = ds.lev.where(test == test.max(dim='lev')).max(dim='lev')\n",
    "    bottom_depth.plot()\n",
    "    #add to dataset\n",
    "    #ds['bottom_depth'] = bottom_depth\n",
    "    relative_depth = mld/bottom_depth\n",
    "        \n",
    "    # find bottom potential density referenced to 2000m and temperature\n",
    "    bottom_sigma2 = ds.sigma2.where(test == test.max(['lev'])).max(dim='lev')\n",
    "    #print(bottom_sigma2)\n",
    "    #ds['bottom_sigma2'] = bottom_sigma2\n",
    "    \n",
    "    bottom_temp = ds.thetao.where(test == test.max(['lev'])).max(dim='lev')\n",
    "    #ds['bottom_temp'] = bottom_temp\n",
    "    \n",
    "    print(ds)\n",
    "\n",
    "    return ds, mld, relative_depth, bottom_sigma2, bottom_temp\n",
    "\n",
    "\n",
    "for i in dset_dict:\n",
    "     newds = calc_mld(dset_dict[i])   "
   ]
  },
  {
   "cell_type": "code",
   "execution_count": 15,
   "metadata": {},
   "outputs": [
    {
     "name": "stdout",
     "output_type": "stream",
     "text": [
      "<xarray.DataArray 'cthetao' (member_id: 1, time: 1980, lev: 60, nlat: 384, nlon: 320)>\n",
      "dask.array<CT_from_pt, shape=(1, 1980, 60, 384, 320), dtype=float64, chunksize=(1, 8, 60, 384, 320), chunktype=numpy.ndarray>\n",
      "Coordinates:\n",
      "  * nlat       (nlat) int32 1 2 3 4 5 6 7 8 ... 377 378 379 380 381 382 383 384\n",
      "  * time       (time) object 1850-01-15 13:00:00 ... 2014-12-15 12:00:00\n",
      "  * lev        (lev) float64 500.0 1.5e+03 2.5e+03 ... 5.125e+05 5.375e+05\n",
      "  * nlon       (nlon) int32 1 2 3 4 5 6 7 8 ... 313 314 315 316 317 318 319 320\n",
      "  * member_id  (member_id) <U8 'r1i1p1f1'\n"
     ]
    }
   ],
   "source": [
    "ds = dset_dict['CMIP.NCAR.CESM2.historical.Omon.gn']\n",
    "cthetao = xr.apply_ufunc(gsw.CT_from_pt, ds.so, ds.thetao, dask='parallelized',\n",
    "                                             output_dtypes=[float,]).rename('cthetao').to_dataset() \n",
    "print(cthetao.cthetao)"
   ]
  },
  {
   "cell_type": "code",
   "execution_count": 27,
   "metadata": {},
   "outputs": [
    {
     "name": "stderr",
     "output_type": "stream",
     "text": [
      "/srv/conda/envs/notebook/lib/python3.7/site-packages/dask/array/numpy_compat.py:40: RuntimeWarning: invalid value encountered in true_divide\n",
      "  x = np.divide(x1, x2, out)\n"
     ]
    },
    {
     "name": "stdout",
     "output_type": "stream",
     "text": [
      "<xarray.DataArray (member_id: 1, lev: 120, nlat: 384, nlon: 320)>\n",
      "dask.array<add, shape=(1, 120, 384, 320), dtype=float64, chunksize=(1, 120, 384, 320), chunktype=numpy.ndarray>\n",
      "Coordinates:\n",
      "  * lev        (lev) float64 5.0 15.0 25.0 ... 4.875e+05 5.125e+05 5.375e+05\n",
      "  * nlat       (nlat) int32 1 2 3 4 5 6 7 8 ... 377 378 379 380 381 382 383 384\n",
      "  * member_id  (member_id) <U8 'r1i1p1f1'\n",
      "  * nlon       (nlon) int32 1 2 3 4 5 6 7 8 ... 313 314 315 316 317 318 319 320\n",
      "    month      int64 8\n"
     ]
    },
    {
     "name": "stderr",
     "output_type": "stream",
     "text": [
      "/srv/conda/envs/notebook/lib/python3.7/site-packages/dask/array/numpy_compat.py:40: RuntimeWarning: invalid value encountered in true_divide\n",
      "  x = np.divide(x1, x2, out)\n",
      "/srv/conda/envs/notebook/lib/python3.7/site-packages/dask/utils.py:29: RuntimeWarning: All-NaN slice encountered\n",
      "  return func(*args, **kwargs)\n",
      "/srv/conda/envs/notebook/lib/python3.7/site-packages/toolz/functoolz.py:488: RuntimeWarning: All-NaN slice encountered\n",
      "  ret = f(ret)\n"
     ]
    },
    {
     "name": "stdout",
     "output_type": "stream",
     "text": [
      "<xarray.Dataset>\n",
      "Dimensions:         (d2: 2, lev: 120, member_id: 1, nlat: 384, nlon: 320, vertices: 4)\n",
      "Coordinates:\n",
      "  * lev             (lev) float64 5.0 15.0 25.0 ... 5.125e+05 5.375e+05\n",
      "  * nlat            (nlat) int32 1 2 3 4 5 6 7 8 ... 378 379 380 381 382 383 384\n",
      "  * member_id       (member_id) <U8 'r1i1p1f1'\n",
      "  * nlon            (nlon) int32 1 2 3 4 5 6 7 8 ... 314 315 316 317 318 319 320\n",
      "    month           int64 8\n",
      "Dimensions without coordinates: d2, vertices\n",
      "Data variables:\n",
      "    sigma2          (member_id, lev, nlat, nlon) float64 dask.array<chunksize=(1, 120, 384, 320), meta=np.ndarray>\n",
      "    sigma0          (member_id, lev, nlat, nlon) float64 dask.array<chunksize=(1, 120, 384, 320), meta=np.ndarray>\n",
      "    cthetao         (member_id, lev, nlat, nlon) float64 dask.array<chunksize=(1, 120, 384, 320), meta=np.ndarray>\n",
      "    lon_bnds        (nlat, nlon, vertices) float32 dask.array<chunksize=(384, 320, 4), meta=np.ndarray>\n",
      "    lat_bnds        (nlat, nlon, vertices) float32 dask.array<chunksize=(384, 320, 4), meta=np.ndarray>\n",
      "    lev_bnds        (lev, d2) float32 dask.array<chunksize=(120, 2), meta=np.ndarray>\n",
      "    lon             (nlat, nlon) float64 dask.array<chunksize=(384, 320), meta=np.ndarray>\n",
      "    lat             (nlat, nlon) float64 dask.array<chunksize=(384, 320), meta=np.ndarray>\n",
      "    so              (member_id, lev, nlat, nlon) float32 dask.array<chunksize=(1, 120, 384, 320), meta=np.ndarray>\n",
      "    thetao          (member_id, lev, nlat, nlon) float32 dask.array<chunksize=(1, 120, 384, 320), meta=np.ndarray>\n",
      "    mld             (member_id, nlat, nlon) float64 dask.array<chunksize=(1, 384, 320), meta=np.ndarray>\n",
      "    bottom_depth    (member_id, nlat, nlon) float64 dask.array<chunksize=(1, 384, 320), meta=np.ndarray>\n",
      "    relative_depth  (member_id, nlat, nlon) float64 dask.array<chunksize=(1, 384, 320), meta=np.ndarray>\n",
      "    bottom_sigma2   (member_id, nlat, nlon) float64 dask.array<chunksize=(1, 384, 320), meta=np.ndarray>\n",
      "    bottom_temp     (member_id, nlat, nlon) float32 dask.array<chunksize=(1, 384, 320), meta=np.ndarray>\n"
     ]
    },
    {
     "data": {
      "image/png": "[encoded data removed]",
      "text/plain": [
       "<Figure size 432x288 with 3 Axes>"
      ]
     },
     "metadata": {
      "needs_background": "light"
     },
     "output_type": "display_data"
    }
   ],
   "source": [
    "def calc_mld(ds):\n",
    "    # select time range and get August values\n",
    "    ds = ds.sel(time=slice('1986', '2005')).groupby('time.month').mean().sel(month=8)\n",
    "    \n",
    "    # Make depth/lev coordinate uniform in name\n",
    "    if 'depth' in ds:\n",
    "        ds.depth = xr.Dataset.rename({'depth':'lev'})\n",
    "    \n",
    "    # and units\n",
    "    if ds.lev.units == 'centimeters':\n",
    "        ds.lev.values = ds.lev.values/100\n",
    "    \n",
    "    # calculate potential density using gibbs sea water package\n",
    "    cthetao = xr.apply_ufunc(gsw.CT_from_pt, ds.so, ds.thetao, dask='parallelized',\n",
    "                                             output_dtypes=[float,]).rename('cthetao').to_dataset() \n",
    "    ds = xr.merge([cthetao, ds])\n",
    "    \n",
    "    # using sigma0 here to calculate mixed layer depth\n",
    "    sigma0=xr.apply_ufunc(gsw.density.sigma0,ds.so, ds.cthetao, dask='parallelized', \n",
    "                        output_dtypes=[float, ]).rename('sigma0').to_dataset()\n",
    "    ds = xr.merge([sigma0, ds])\n",
    "  \n",
    "    # Interpolate potential density\n",
    "    dsi = ds.sigma0.interp(lev=np.linspace(0,20,21))\n",
    "    surf_dens = dsi.sel(lev = 10)\n",
    "    \n",
    "    ds.sigma0.isel(lev=0).plot()\n",
    "    \n",
    "    # calculate sigma2\n",
    "    sigma2=xr.apply_ufunc(gsw.density.sigma2,ds.so, ds.cthetao, dask='parallelized', \n",
    "                        output_dtypes=[float, ]).rename('sigma2').to_dataset()\n",
    "    ds = xr.merge([sigma2, ds])\n",
    "    \n",
    "    # Calculate mixed layer depth based on density difference from 10m\n",
    "    dens_diff = ds.sigma0 - surf_dens\n",
    "    dens_diff = dens_diff.where(dens_diff > 0.03)\n",
    "    mld = dens_diff.lev.where(dens_diff==dens_diff.min(['lev'])).max(['lev'])\n",
    "    \n",
    "    #dens_diff.isel(lev=0).plot()\n",
    "    # add mld to dataset\n",
    "    ds['mld'] = mld\n",
    "    \n",
    "    # find depth of bottom\n",
    "    test = ds.sigma0 + ds.lev\n",
    "    print(test)\n",
    "    bottom_depth = ds.lev.where(test == test.max(dim='lev')).max(dim='lev')\n",
    "    bottom_depth.plot()\n",
    "    #add to dataset\n",
    "    ds['bottom_depth'] = bottom_depth\n",
    "    ds['relative_depth'] = mld/bottom_depth\n",
    "        \n",
    "    # find bottom potential density referenced to 2000m and temperature\n",
    "    bottom_sigma2 = ds.sigma2.where(test == test.max(['lev'])).max(dim='lev')\n",
    "    #print(bottom_sigma2)\n",
    "    ds['bottom_sigma2'] = bottom_sigma2\n",
    "    \n",
    "    bottom_temp = ds.thetao.where(test == test.max(['lev'])).max(dim='lev')\n",
    "    ds['bottom_temp'] = bottom_temp\n",
    "    \n",
    "    print(ds)\n",
    "\n",
    "    return ds\n",
    "\n",
    "\n",
    "for i in dset_dict:\n",
    "     newds = calc_mld(dset_dict[i])  "
   ]
  },
  {
   "cell_type": "code",
   "execution_count": null,
   "metadata": {},
   "outputs": [],
   "source": [
    "bottom_sigma"
   ]
  }
 ],
 "metadata": {
  "kernelspec": {
   "display_name": "Python 3",
   "language": "python",
   "name": "python3"
  },
  "language_info": {
   "codemirror_mode": {
    "name": "ipython",
    "version": 3
   },
   "file_extension": ".py",
   "mimetype": "text/x-python",
   "name": "python",
   "nbconvert_exporter": "python",
   "pygments_lexer": "ipython3",
   "version": "3.7.3"
  }
 },
 "nbformat": 4,
 "nbformat_minor": 4
}
