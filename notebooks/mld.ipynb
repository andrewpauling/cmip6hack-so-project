{
 "cells": [
  {
   "cell_type": "markdown",
   "metadata": {},
   "source": [
    "# Calculating mixed layer depth  \n",
    "Determine for each grid point for each August the max MLD using density threshold of 0.03 kg/m3 from the 10 m depth value"
   ]
  },
  {
   "cell_type": "code",
   "execution_count": 1,
   "metadata": {},
   "outputs": [
    {
     "name": "stderr",
     "output_type": "stream",
     "text": [
      "/srv/conda/envs/notebook/lib/python3.7/site-packages/intake/source/discovery.py:136: FutureWarning: The drivers ['stac-catalog', 'stac-collection', 'stac-item'] do not specify entry_points and were only discovered via a package scan. This may break in a future release of intake. The packages should be updated.\n",
      "  FutureWarning)\n"
     ]
    }
   ],
   "source": [
    "import xarray as xr\n",
    "import numpy as np\n",
    "import matplotlib.pyplot as plt\n",
    "import cartopy.crs as ccrs\n",
    "import warnings\n",
    "import gcsfs\n",
    "from xhistogram.xarray import histogram\n",
    "import intake\n",
    "import util\n",
    "import gsw"
   ]
  },
  {
   "cell_type": "code",
   "execution_count": 2,
   "metadata": {},
   "outputs": [
    {
     "data": {
      "text/plain": [
       "pangeo-cmip6-ESM Collection with 28660 entries:\n",
       "\t> 10 activity_id(s)\n",
       "\n",
       "\t> 23 institution_id(s)\n",
       "\n",
       "\t> 48 source_id(s)\n",
       "\n",
       "\t> 29 experiment_id(s)\n",
       "\n",
       "\t> 86 member_id(s)\n",
       "\n",
       "\t> 23 table_id(s)\n",
       "\n",
       "\t> 190 variable_id(s)\n",
       "\n",
       "\t> 7 grid_label(s)\n",
       "\n",
       "\t> 28660 zstore(s)\n",
       "\n",
       "\t> 59 dcpp_init_year(s)"
      ]
     },
     "execution_count": 2,
     "metadata": {},
     "output_type": "execute_result"
    }
   ],
   "source": [
    "if util.is_ncar_host():\n",
    "    col = intake.open_esm_datastore(\"../catalogs/glade-cmip6.json\")\n",
    "else:\n",
    "    col = intake.open_esm_datastore(\"../catalogs/pangeo-cmip6.json\")\n",
    "col"
   ]
  },
  {
   "cell_type": "code",
   "execution_count": 3,
   "metadata": {},
   "outputs": [
    {
     "data": {
      "text/html": [
       "<div>\n",
       "<style scoped>\n",
       "    .dataframe tbody tr th:only-of-type {\n",
       "        vertical-align: middle;\n",
       "    }\n",
       "\n",
       "    .dataframe tbody tr th {\n",
       "        vertical-align: top;\n",
       "    }\n",
       "\n",
       "    .dataframe thead th {\n",
       "        text-align: right;\n",
       "    }\n",
       "</style>\n",
       "<table border=\"1\" class=\"dataframe\">\n",
       "  <thead>\n",
       "    <tr style=\"text-align: right;\">\n",
       "      <th></th>\n",
       "      <th>activity_id</th>\n",
       "      <th>institution_id</th>\n",
       "      <th>source_id</th>\n",
       "      <th>experiment_id</th>\n",
       "      <th>member_id</th>\n",
       "      <th>table_id</th>\n",
       "      <th>variable_id</th>\n",
       "      <th>grid_label</th>\n",
       "      <th>zstore</th>\n",
       "      <th>dcpp_init_year</th>\n",
       "    </tr>\n",
       "  </thead>\n",
       "  <tbody>\n",
       "    <tr>\n",
       "      <th>323</th>\n",
       "      <td>CMIP</td>\n",
       "      <td>BCC</td>\n",
       "      <td>BCC-CSM2-MR</td>\n",
       "      <td>historical</td>\n",
       "      <td>r1i1p1f1</td>\n",
       "      <td>Omon</td>\n",
       "      <td>so</td>\n",
       "      <td>gn</td>\n",
       "      <td>gs://cmip6/CMIP/BCC/BCC-CSM2-MR/historical/r1i...</td>\n",
       "      <td>NaN</td>\n",
       "    </tr>\n",
       "    <tr>\n",
       "      <th>325</th>\n",
       "      <td>CMIP</td>\n",
       "      <td>BCC</td>\n",
       "      <td>BCC-CSM2-MR</td>\n",
       "      <td>historical</td>\n",
       "      <td>r1i1p1f1</td>\n",
       "      <td>Omon</td>\n",
       "      <td>thetao</td>\n",
       "      <td>gn</td>\n",
       "      <td>gs://cmip6/CMIP/BCC/BCC-CSM2-MR/historical/r1i...</td>\n",
       "      <td>NaN</td>\n",
       "    </tr>\n",
       "    <tr>\n",
       "      <th>586</th>\n",
       "      <td>CMIP</td>\n",
       "      <td>BCC</td>\n",
       "      <td>BCC-ESM1</td>\n",
       "      <td>historical</td>\n",
       "      <td>r1i1p1f1</td>\n",
       "      <td>Omon</td>\n",
       "      <td>so</td>\n",
       "      <td>gn</td>\n",
       "      <td>gs://cmip6/CMIP/BCC/BCC-ESM1/historical/r1i1p1...</td>\n",
       "      <td>NaN</td>\n",
       "    </tr>\n",
       "    <tr>\n",
       "      <th>588</th>\n",
       "      <td>CMIP</td>\n",
       "      <td>BCC</td>\n",
       "      <td>BCC-ESM1</td>\n",
       "      <td>historical</td>\n",
       "      <td>r1i1p1f1</td>\n",
       "      <td>Omon</td>\n",
       "      <td>thetao</td>\n",
       "      <td>gn</td>\n",
       "      <td>gs://cmip6/CMIP/BCC/BCC-ESM1/historical/r1i1p1...</td>\n",
       "      <td>NaN</td>\n",
       "    </tr>\n",
       "  </tbody>\n",
       "</table>\n",
       "</div>"
      ],
      "text/plain": [
       "    activity_id institution_id    source_id experiment_id member_id table_id  \\\n",
       "323        CMIP            BCC  BCC-CSM2-MR    historical  r1i1p1f1     Omon   \n",
       "325        CMIP            BCC  BCC-CSM2-MR    historical  r1i1p1f1     Omon   \n",
       "586        CMIP            BCC     BCC-ESM1    historical  r1i1p1f1     Omon   \n",
       "588        CMIP            BCC     BCC-ESM1    historical  r1i1p1f1     Omon   \n",
       "\n",
       "    variable_id grid_label                                             zstore  \\\n",
       "323          so         gn  gs://cmip6/CMIP/BCC/BCC-CSM2-MR/historical/r1i...   \n",
       "325      thetao         gn  gs://cmip6/CMIP/BCC/BCC-CSM2-MR/historical/r1i...   \n",
       "586          so         gn  gs://cmip6/CMIP/BCC/BCC-ESM1/historical/r1i1p1...   \n",
       "588      thetao         gn  gs://cmip6/CMIP/BCC/BCC-ESM1/historical/r1i1p1...   \n",
       "\n",
       "     dcpp_init_year  \n",
       "323             NaN  \n",
       "325             NaN  \n",
       "586             NaN  \n",
       "588             NaN  "
      ]
     },
     "execution_count": 3,
     "metadata": {},
     "output_type": "execute_result"
    }
   ],
   "source": [
    "cat = col.search(experiment_id=['historical'], institution_id='BCC', table_id='Omon', member_id='r1i1p1f1', variable_id=['thetao','so','siconc'], grid_label='gn')\n",
    "cat.df"
   ]
  },
  {
   "cell_type": "code",
   "execution_count": 4,
   "metadata": {},
   "outputs": [
    {
     "name": "stdout",
     "output_type": "stream",
     "text": [
      "--> The keys in the returned dictionary of datasets are constructed as follows:\n",
      "\t'activity_id.institution_id.source_id.experiment_id.table_id.grid_label'\n",
      "\n",
      "--> There will be 2 group(s)\n"
     ]
    },
    {
     "data": {
      "text/plain": [
       "dict_keys(['CMIP.BCC.BCC-CSM2-MR.historical.Omon.gn', 'CMIP.BCC.BCC-ESM1.historical.Omon.gn'])"
      ]
     },
     "execution_count": 4,
     "metadata": {},
     "output_type": "execute_result"
    }
   ],
   "source": [
    "dset_dict = cat.to_dataset_dict(zarr_kwargs={'consolidated': True, 'decode_times': False}, \n",
    "                                cdf_kwargs={'chunks': {}, 'decode_times': False})\n",
    "dset_dict.keys()"
   ]
  },
  {
   "cell_type": "code",
   "execution_count": 5,
   "metadata": {},
   "outputs": [
    {
     "name": "stdout",
     "output_type": "stream",
     "text": [
      "<xarray.Dataset>\n",
      "Dimensions:    (bnds: 2, lat: 232, lev: 40, lon: 360, member_id: 1, time: 1980)\n",
      "Coordinates:\n",
      "  * lon        (lon) float64 0.5 1.5 2.5 3.5 4.5 ... 356.5 357.5 358.5 359.5\n",
      "  * lat        (lat) float64 -81.5 -80.5 -79.5 -78.5 ... 86.5 87.5 88.5 89.5\n",
      "  * lev        (lev) float64 5.0 15.0 25.0 ... 4.289e+03 4.807e+03 5.334e+03\n",
      "  * time       (time) float64 15.5 45.0 74.5 ... 6.015e+04 6.018e+04 6.021e+04\n",
      "  * member_id  (member_id) <U8 'r1i1p1f1'\n",
      "Dimensions without coordinates: bnds\n",
      "Data variables:\n",
      "    pdens      (member_id, time, lev, lat, lon) float64 dask.array<chunksize=(1, 12, 40, 232, 360), meta=np.ndarray>\n",
      "    cthetao    (member_id, time, lev, lat, lon) float64 dask.array<chunksize=(1, 12, 40, 232, 360), meta=np.ndarray>\n",
      "    time_bnds  (time, bnds) int64 dask.array<chunksize=(1980, 2), meta=np.ndarray>\n",
      "    lat_bnds   (lat, bnds) float64 dask.array<chunksize=(232, 2), meta=np.ndarray>\n",
      "    latitude   (lat, lon) float32 dask.array<chunksize=(232, 360), meta=np.ndarray>\n",
      "    longitude  (lat, lon) float32 dask.array<chunksize=(232, 360), meta=np.ndarray>\n",
      "    lon_bnds   (lon, bnds) float64 dask.array<chunksize=(360, 2), meta=np.ndarray>\n",
      "    lev_bnds   (lev, bnds) float64 dask.array<chunksize=(40, 2), meta=np.ndarray>\n",
      "    so         (member_id, time, lev, lat, lon) float32 dask.array<chunksize=(1, 12, 40, 232, 360), meta=np.ndarray>\n",
      "    thetao     (member_id, time, lev, lat, lon) float32 dask.array<chunksize=(1, 12, 40, 232, 360), meta=np.ndarray>\n",
      "<xarray.Dataset>\n",
      "Dimensions:    (bnds: 2, lat: 232, lev: 40, lon: 360, member_id: 1, time: 1980)\n",
      "Coordinates:\n",
      "  * lon        (lon) float64 0.5 1.5 2.5 3.5 4.5 ... 356.5 357.5 358.5 359.5\n",
      "  * lat        (lat) float64 -81.5 -80.5 -79.5 -78.5 ... 86.5 87.5 88.5 89.5\n",
      "  * lev        (lev) float64 5.0 15.0 25.0 ... 4.289e+03 4.807e+03 5.334e+03\n",
      "  * time       (time) float64 15.5 45.0 74.5 ... 6.015e+04 6.018e+04 6.021e+04\n",
      "  * member_id  (member_id) <U8 'r1i1p1f1'\n",
      "Dimensions without coordinates: bnds\n",
      "Data variables:\n",
      "    pdens      (member_id, time, lev, lat, lon) float64 dask.array<chunksize=(1, 12, 40, 232, 360), meta=np.ndarray>\n",
      "    cthetao    (member_id, time, lev, lat, lon) float64 dask.array<chunksize=(1, 12, 40, 232, 360), meta=np.ndarray>\n",
      "    time_bnds  (time, bnds) int64 dask.array<chunksize=(1980, 2), meta=np.ndarray>\n",
      "    lat_bnds   (lat, bnds) float64 dask.array<chunksize=(232, 2), meta=np.ndarray>\n",
      "    latitude   (lat, lon) float32 dask.array<chunksize=(232, 360), meta=np.ndarray>\n",
      "    longitude  (lat, lon) float32 dask.array<chunksize=(232, 360), meta=np.ndarray>\n",
      "    lon_bnds   (lon, bnds) float64 dask.array<chunksize=(360, 2), meta=np.ndarray>\n",
      "    lev_bnds   (lev, bnds) float64 dask.array<chunksize=(40, 2), meta=np.ndarray>\n",
      "    so         (member_id, time, lev, lat, lon) float32 dask.array<chunksize=(1, 12, 40, 232, 360), meta=np.ndarray>\n",
      "    thetao     (member_id, time, lev, lat, lon) float32 dask.array<chunksize=(1, 12, 40, 232, 360), meta=np.ndarray>\n"
     ]
    }
   ],
   "source": [
    "for i in dset_dict:\n",
    "    cthetao = xr.apply_ufunc(gsw.CT_from_pt, dset_dict[i].so, dset_dict[i].thetao, dask='parallelized',\n",
    "                                             output_dtypes=[float,]).rename('cthetao').to_dataset() \n",
    "    dset_dict[i] = xr.merge([cthetao, dset_dict[i]])\n",
    "\n",
    "for i in dset_dict:    \n",
    "    pdens=xr.apply_ufunc(gsw.density.sigma0,dset_dict[i].so, dset_dict[i].cthetao, dask='parallelized', \n",
    "                        output_dtypes=[float, ]).rename('pdens').to_dataset()\n",
    "    dset_dict[i] = xr.merge([pdens, dset_dict[i]])\n",
    "    print(dset_dict[i])\n",
    "    \n"
   ]
  },
  {
   "cell_type": "code",
   "execution_count": null,
   "metadata": {},
   "outputs": [],
   "source": []
  }
 ],
 "metadata": {
  "kernelspec": {
   "display_name": "Python 3",
   "language": "python",
   "name": "python3"
  },
  "language_info": {
   "codemirror_mode": {
    "name": "ipython",
    "version": 3
   },
   "file_extension": ".py",
   "mimetype": "text/x-python",
   "name": "python",
   "nbconvert_exporter": "python",
   "pygments_lexer": "ipython3",
   "version": "3.7.3"
  }
 },
 "nbformat": 4,
 "nbformat_minor": 4
}
